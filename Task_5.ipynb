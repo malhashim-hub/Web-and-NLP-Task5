{
 "cells": [
  {
   "cell_type": "markdown",
   "id": "c531d81d",
   "metadata": {},
   "source": [
    "# OpenAI/whisper Speech-to-text"
   ]
  },
  {
   "cell_type": "code",
   "execution_count": 1,
   "id": "9b47e50d",
   "metadata": {
    "collapsed": true
   },
   "outputs": [
    {
     "name": "stdout",
     "output_type": "stream",
     "text": [
      "Defaulting to user installation because normal site-packages is not writeable\n",
      "Collecting git+https://github.com/openai/whisper.git\n",
      "  Cloning https://github.com/openai/whisper.git to c:\\users\\malha\\appdata\\local\\temp\\pip-req-build-iq51wfs9\n",
      "  Resolved https://github.com/openai/whisper.git to commit e8622f9afc4eba139bf796c210f5c01081000472\n",
      "  Installing build dependencies: started\n",
      "  Installing build dependencies: finished with status 'done'\n",
      "  Getting requirements to build wheel: started\n",
      "  Getting requirements to build wheel: finished with status 'done'\n",
      "  Preparing metadata (pyproject.toml): started\n",
      "  Preparing metadata (pyproject.toml): finished with status 'done'\n",
      "Requirement already satisfied: numpy in c:\\programdata\\anaconda3\\lib\\site-packages (from openai-whisper==20230314) (1.23.5)\n",
      "Requirement already satisfied: torch in c:\\programdata\\anaconda3\\lib\\site-packages (from openai-whisper==20230314) (1.12.1)\n",
      "Requirement already satisfied: numba in c:\\programdata\\anaconda3\\lib\\site-packages (from openai-whisper==20230314) (0.56.4)\n",
      "Requirement already satisfied: more-itertools in c:\\users\\malha\\appdata\\roaming\\python\\python310\\site-packages (from openai-whisper==20230314) (10.1.0)\n",
      "Requirement already satisfied: tqdm in c:\\programdata\\anaconda3\\lib\\site-packages (from openai-whisper==20230314) (4.64.1)\n",
      "Requirement already satisfied: tiktoken==0.3.3 in c:\\users\\malha\\appdata\\roaming\\python\\python310\\site-packages (from openai-whisper==20230314) (0.3.3)\n",
      "Requirement already satisfied: requests>=2.26.0 in c:\\programdata\\anaconda3\\lib\\site-packages (from tiktoken==0.3.3->openai-whisper==20230314) (2.28.1)\n",
      "Requirement already satisfied: regex>=2022.1.18 in c:\\programdata\\anaconda3\\lib\\site-packages (from tiktoken==0.3.3->openai-whisper==20230314) (2022.7.9)\n",
      "Requirement already satisfied: setuptools in c:\\programdata\\anaconda3\\lib\\site-packages (from numba->openai-whisper==20230314) (65.6.3)\n",
      "Requirement already satisfied: llvmlite<0.40,>=0.39.0dev0 in c:\\programdata\\anaconda3\\lib\\site-packages (from numba->openai-whisper==20230314) (0.39.1)\n",
      "Requirement already satisfied: typing_extensions in c:\\programdata\\anaconda3\\lib\\site-packages (from torch->openai-whisper==20230314) (4.4.0)\n",
      "Requirement already satisfied: colorama in c:\\programdata\\anaconda3\\lib\\site-packages (from tqdm->openai-whisper==20230314) (0.4.6)\n",
      "Requirement already satisfied: charset-normalizer<3,>=2 in c:\\programdata\\anaconda3\\lib\\site-packages (from requests>=2.26.0->tiktoken==0.3.3->openai-whisper==20230314) (2.0.4)\n",
      "Requirement already satisfied: idna<4,>=2.5 in c:\\programdata\\anaconda3\\lib\\site-packages (from requests>=2.26.0->tiktoken==0.3.3->openai-whisper==20230314) (3.4)\n",
      "Requirement already satisfied: urllib3<1.27,>=1.21.1 in c:\\programdata\\anaconda3\\lib\\site-packages (from requests>=2.26.0->tiktoken==0.3.3->openai-whisper==20230314) (1.26.14)\n",
      "Requirement already satisfied: certifi>=2017.4.17 in c:\\programdata\\anaconda3\\lib\\site-packages (from requests>=2.26.0->tiktoken==0.3.3->openai-whisper==20230314) (2023.7.22)\n",
      "Note: you may need to restart the kernel to use updated packages.\n"
     ]
    },
    {
     "name": "stderr",
     "output_type": "stream",
     "text": [
      "  Running command git clone --filter=blob:none --quiet https://github.com/openai/whisper.git 'C:\\Users\\malha\\AppData\\Local\\Temp\\pip-req-build-iq51wfs9'\n"
     ]
    }
   ],
   "source": [
    "pip install git+https://github.com/openai/whisper.git"
   ]
  },
  {
   "cell_type": "code",
   "execution_count": 2,
   "id": "532734ee",
   "metadata": {
    "collapsed": true
   },
   "outputs": [
    {
     "name": "stdout",
     "output_type": "stream",
     "text": [
      "Defaulting to user installation because normal site-packages is not writeable\n",
      "Collecting git+https://github.com/openai/whisper.git\n",
      "  Cloning https://github.com/openai/whisper.git to c:\\users\\malha\\appdata\\local\\temp\\pip-req-build-pv2dhsho\n",
      "  Resolved https://github.com/openai/whisper.git to commit e8622f9afc4eba139bf796c210f5c01081000472\n",
      "  Installing build dependencies: started\n",
      "  Installing build dependencies: finished with status 'done'\n",
      "  Getting requirements to build wheel: started\n",
      "  Getting requirements to build wheel: finished with status 'done'\n",
      "  Preparing metadata (pyproject.toml): started\n",
      "  Preparing metadata (pyproject.toml): finished with status 'done'\n",
      "Building wheels for collected packages: openai-whisper\n",
      "  Building wheel for openai-whisper (pyproject.toml): started\n",
      "  Building wheel for openai-whisper (pyproject.toml): finished with status 'done'\n",
      "  Created wheel for openai-whisper: filename=openai_whisper-20230314-py3-none-any.whl size=807707 sha256=c46af2807bca3d6643cb1a93ac236162c25be1fa4b07436a70decf0a8fa7b0c9\n",
      "  Stored in directory: C:\\Users\\malha\\AppData\\Local\\Temp\\pip-ephem-wheel-cache-bcad4nzi\\wheels\\8b\\6c\\d0\\622666868c179f156cf595c8b6f06f88bc5d80c4b31dccaa03\n",
      "Successfully built openai-whisper\n",
      "Installing collected packages: openai-whisper\n",
      "  Attempting uninstall: openai-whisper\n",
      "    Found existing installation: openai-whisper 20230314\n",
      "    Uninstalling openai-whisper-20230314:\n",
      "      Successfully uninstalled openai-whisper-20230314\n",
      "Successfully installed openai-whisper-20230314\n",
      "Note: you may need to restart the kernel to use updated packages.\n"
     ]
    },
    {
     "name": "stderr",
     "output_type": "stream",
     "text": [
      "  Running command git clone --filter=blob:none --quiet https://github.com/openai/whisper.git 'C:\\Users\\malha\\AppData\\Local\\Temp\\pip-req-build-pv2dhsho'\n"
     ]
    }
   ],
   "source": [
    "pip install --upgrade --no-deps --force-reinstall git+https://github.com/openai/whisper.git"
   ]
  },
  {
   "cell_type": "code",
   "execution_count": 3,
   "id": "4401cfb2",
   "metadata": {
    "collapsed": true
   },
   "outputs": [
    {
     "name": "stdout",
     "output_type": "stream",
     "text": [
      "Defaulting to user installation because normal site-packages is not writeable\n",
      "Requirement already satisfied: setuptools-rust in c:\\users\\malha\\appdata\\roaming\\python\\python310\\site-packages (1.7.0)\n",
      "Requirement already satisfied: setuptools>=62.4 in c:\\programdata\\anaconda3\\lib\\site-packages (from setuptools-rust) (65.6.3)\n",
      "Requirement already satisfied: semantic-version<3,>=2.8.2 in c:\\users\\malha\\appdata\\roaming\\python\\python310\\site-packages (from setuptools-rust) (2.10.0)\n",
      "Requirement already satisfied: tomli>=1.2.1 in c:\\programdata\\anaconda3\\lib\\site-packages (from setuptools-rust) (2.0.1)\n",
      "Requirement already satisfied: typing-extensions>=3.7.4.3 in c:\\programdata\\anaconda3\\lib\\site-packages (from setuptools-rust) (4.4.0)\n",
      "Note: you may need to restart the kernel to use updated packages.\n"
     ]
    }
   ],
   "source": [
    "pip install setuptools-rust"
   ]
  },
  {
   "cell_type": "code",
   "execution_count": 1,
   "id": "ebcbd131",
   "metadata": {},
   "outputs": [
    {
     "data": {
      "text/plain": [
       "{'text': ' Hello, my name is Muhammad.',\n",
       " 'segments': [{'id': 0,\n",
       "   'seek': 0,\n",
       "   'start': 0.0,\n",
       "   'end': 2.0,\n",
       "   'text': ' Hello, my name is Muhammad.',\n",
       "   'tokens': [50364, 2425, 11, 452, 1315, 307, 19360, 13, 50464],\n",
       "   'temperature': 0.0,\n",
       "   'avg_logprob': -0.3745786905288696,\n",
       "   'compression_ratio': 0.7714285714285715,\n",
       "   'no_speech_prob': 0.02236618660390377}],\n",
       " 'language': 'en'}"
      ]
     },
     "execution_count": 1,
     "metadata": {},
     "output_type": "execute_result"
    }
   ],
   "source": [
    "import whisper\n",
    "\n",
    "model = whisper.load_model('base')\n",
    "model.transcribe('en1.mp3', fp16=False)"
   ]
  },
  {
   "cell_type": "code",
   "execution_count": 8,
   "id": "ab4d89ff",
   "metadata": {},
   "outputs": [
    {
     "name": "stderr",
     "output_type": "stream",
     "text": [
      "C:\\Users\\malha\\AppData\\Roaming\\Python\\Python310\\site-packages\\whisper\\transcribe.py:114: UserWarning: FP16 is not supported on CPU; using FP32 instead\n",
      "  warnings.warn(\"FP16 is not supported on CPU; using FP32 instead\")\n"
     ]
    },
    {
     "name": "stdout",
     "output_type": "stream",
     "text": [
      " السلام عليكم ورحمة الله وبركاته معكم محمد الهاشم متدرب في الأسالي بالذكية طالب علوم حاسب\n"
     ]
    }
   ],
   "source": [
    "result = model.transcribe(\"ar1.mp3\")\n",
    "print(result[\"text\"])"
   ]
  },
  {
   "cell_type": "code",
   "execution_count": 9,
   "id": "c16e252e",
   "metadata": {},
   "outputs": [
    {
     "name": "stdout",
     "output_type": "stream",
     "text": [
      "Detected language: ar\n",
      "السلام عليكم ورحمة الله وبركاته اسمي محمد متدرب في الأسالي بالذكية طالب علوم حسب في جامعة الملك فيصل\n"
     ]
    }
   ],
   "source": [
    "model = whisper.load_model(\"base\")\n",
    "\n",
    "# load audio and pad/trim it to fit 30 seconds\n",
    "audio = whisper.load_audio(\"ar2.mp3\")\n",
    "audio = whisper.pad_or_trim(audio)\n",
    "\n",
    "# make log-Mel spectrogram and move to the same device as the model\n",
    "mel = whisper.log_mel_spectrogram(audio).to(model.device)\n",
    "\n",
    "# detect the spoken language\n",
    "_, probs = model.detect_language(mel)\n",
    "print(f\"Detected language: {max(probs, key=probs.get)}\")\n",
    "\n",
    "# decode the audio\n",
    "options = whisper.DecodingOptions(fp16=False)\n",
    "result = whisper.decode(model, mel, options)\n",
    "\n",
    "# print the recognized text\n",
    "print(result.text)"
   ]
  },
  {
   "cell_type": "markdown",
   "id": "c15669dc",
   "metadata": {},
   "source": [
    "# pyttsx3 text-to-speech"
   ]
  },
  {
   "cell_type": "code",
   "execution_count": 10,
   "id": "886102c9",
   "metadata": {},
   "outputs": [],
   "source": [
    "import pyttsx3"
   ]
  },
  {
   "cell_type": "code",
   "execution_count": 11,
   "id": "2b8c92af",
   "metadata": {},
   "outputs": [
    {
     "name": "stdout",
     "output_type": "stream",
     "text": [
      "What you want to convert to speech: \n",
      "Mohammed\n"
     ]
    }
   ],
   "source": [
    "text_speech = pyttsx3.init()\n",
    "answer = input(\"What you want to convert to speech: \\n\")\n",
    "text_speech.say(answer)\n",
    "text_speech.runAndWait()\n"
   ]
  },
  {
   "cell_type": "markdown",
   "id": "6ff20167",
   "metadata": {},
   "source": [
    "# narakeet text-to-speech-api"
   ]
  },
  {
   "cell_type": "code",
   "execution_count": 19,
   "id": "a7a2d66c",
   "metadata": {},
   "outputs": [
    {
     "name": "stdout",
     "output_type": "stream",
     "text": [
      "{'percent': 0, 'finished': False, 'message': 'Preparing to create audio'}\n",
      "downloaded to output.wav\n"
     ]
    }
   ],
   "source": [
    "import os\n",
    "from narakeet_api import AudioAPI\n",
    "\n",
    "api_key = \"NARAKEET_API_KEY\"\n",
    "format = \"wav\"\n",
    "voice = \"Khaled\"\n",
    "script = \"Hello there from the long content API. This is Victoria speaking!\"\n",
    "\n",
    "def show_progress(progress_data):\n",
    "    # change this to do something smarter with percent and message\n",
    "    print(progress_data)\n",
    "\n",
    "api = AudioAPI(api_key)\n",
    "\n",
    "# start a build task using the text sample and voice\n",
    "# and wait for it to finish\n",
    "task = api.request_audio_task(format, script, voice)\n",
    "task_result = api.poll_until_finished(task['statusUrl'], show_progress)\n",
    "\n",
    "# grab the result file\n",
    "if task_result['succeeded']:\n",
    "    filename = f'output.{format}'\n",
    "    api.download_to_file(task_result['result'], filename)\n",
    "    print(f'downloaded to {filename}')\n",
    "else:\n",
    "    raise Exception(task_result['message'])"
   ]
  },
  {
   "cell_type": "code",
   "execution_count": 7,
   "id": "b41f935e",
   "metadata": {},
   "outputs": [
    {
     "name": "stdout",
     "output_type": "stream",
     "text": [
      "^C\n",
      "Note: you may need to restart the kernel to use updated packages.\n"
     ]
    }
   ],
   "source": [
    "pip uninstall playsound"
   ]
  },
  {
   "cell_type": "code",
   "execution_count": 5,
   "id": "92607353",
   "metadata": {},
   "outputs": [
    {
     "name": "stdout",
     "output_type": "stream",
     "text": [
      "Defaulting to user installation because normal site-packages is not writeable\n",
      "Requirement already satisfied: playsound==1.2.2 in c:\\users\\malha\\appdata\\roaming\\python\\python310\\site-packages (1.2.2)\n",
      "Note: you may need to restart the kernel to use updated packages.\n"
     ]
    }
   ],
   "source": [
    "pip install playsound==1.2.2"
   ]
  },
  {
   "cell_type": "code",
   "execution_count": 4,
   "id": "f548d3c9",
   "metadata": {},
   "outputs": [
    {
     "name": "stdout",
     "output_type": "stream",
     "text": [
      "playing sound using playsound\n"
     ]
    }
   ],
   "source": [
    "# import required module\n",
    "from playsound import playsound\n",
    "\n",
    "# for playing note.wav file\n",
    "playsound('output.wav')\n",
    "print('playing sound using playsound')\n"
   ]
  }
 ],
 "metadata": {
  "kernelspec": {
   "display_name": "Python 3 (ipykernel)",
   "language": "python",
   "name": "python3"
  },
  "language_info": {
   "codemirror_mode": {
    "name": "ipython",
    "version": 3
   },
   "file_extension": ".py",
   "mimetype": "text/x-python",
   "name": "python",
   "nbconvert_exporter": "python",
   "pygments_lexer": "ipython3",
   "version": "3.10.9"
  }
 },
 "nbformat": 4,
 "nbformat_minor": 5
}
